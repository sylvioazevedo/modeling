{
  "cells": [
    {
      "cell_type": "markdown",
      "metadata": {
        "id": "9AyDnbUFtOk7"
      },
      "source": [
        "# Insper - MPE21 - Derivativos - Lab 5\n",
        "\n",
        "> Professor: Dr. Gustavo Monteiro de Athayde  \n",
        "> Monitor: Sylvio X. Azevedo Neto - <<sylvioxan@insper.edu.br>>  \n",
        "> Date: 05/04/2025\n"
      ]
    },
    {
      "cell_type": "markdown",
      "metadata": {
        "id": "GOyZ9QyzyR_X"
      },
      "source": [
        "## Agenda\n",
        "\n",
        "* Binárias do Copom - Any changes - [Dashboard B3](https://www.b3.com.br/pt_br/produtos-e-servicos/negociacao/juros/dashboard-publico-opcoes-de-copom/)?\n",
        "\n",
        "* CDS - [demonstração - lab 4](cds.pdf)\n",
        "\n",
        "* Barrier Options - [Lab 5](barrier_options.ipynb)"
      ]
    },
    {
      "cell_type": "markdown",
      "metadata": {
        "id": "r7hKReBLDwk4"
      },
      "source": []
    },
    {
      "cell_type": "markdown",
      "metadata": {},
      "source": []
    }
  ],
  "metadata": {
    "colab": {
      "provenance": []
    },
    "kernelspec": {
      "display_name": "Python 3",
      "name": "python3"
    },
    "language_info": {
      "name": "python"
    }
  },
  "nbformat": 4,
  "nbformat_minor": 0
}
