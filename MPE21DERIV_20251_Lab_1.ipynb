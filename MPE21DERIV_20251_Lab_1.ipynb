{
  "cells": [
    {
      "cell_type": "markdown",
      "metadata": {
        "id": "9AyDnbUFtOk7"
      },
      "source": [
        "# Insper - Derivativos - Lab 1\n",
        "\n",
        "> Professor: Dr. Gustavo Monteiro de Athayde  \n",
        "> Monitor: Sylvio X. Azevedo Neto - <<sylvioxan@insper.edu.br>>  \n",
        "> Date: 15/02/2025\n"
      ]
    },
    {
      "cell_type": "markdown",
      "metadata": {
        "id": "GOyZ9QyzyR_X"
      },
      "source": [
        "## Agenda\n",
        "\n",
        "* Smile for Dummies (Excel) - Blackboard Insper;\n",
        "\n",
        "* Binárias do Copom;\n",
        "\n",
        "* Framework python para derivativos:\n",
        "\n",
        "  - Montagem de ambiente;\n",
        "\n",
        "  - Notações sobre a disciplina;\n",
        "\n",
        "  - Smile for Dummies: Implementação - Gerador de vols\n"
      ]
    },
    {
      "cell_type": "markdown",
      "metadata": {
        "id": "7oYSi4D01kys"
      },
      "source": [
        "## Binárias Copom\n",
        "\n",
        "  - [Dashboard B3](https://www.b3.com.br/pt_br/produtos-e-servicos/negociacao/juros/dashboard-publico-opcoes-de-copom/)\n",
        "\n",
        "\n",
        "  - Digitais para Maio/2025:\n",
        "  \n",
        "  https://drive.google.com/file/d/1to_55E7Ms7KaEyDu9HyIdcM-HC9n0yO_/view?usp=sharing\n",
        "  "
      ]
    },
    {
      "cell_type": "markdown",
      "metadata": {
        "id": "xq2jVZo684dD"
      },
      "source": [
        "## Framework python - Montagem do ambiente:\n",
        "\n",
        "### Ambiente local:\n",
        "\n",
        "  - [Download do interpretador python](https://www.python.org/downloads/);\n",
        "  \n",
        "  - [Instalação do gerenciador de pacotes UV](https://docs.astral.sh/uv/): **pip install uv**\n",
        "\n",
        "\n",
        "\n",
        "  - [Download do Visual Studio Code](https://code.visualstudio.com/download);\n"
      ]
    },
    {
      "cell_type": "markdown",
      "metadata": {
        "id": "r7hKReBLDwk4"
      },
      "source": [
        "### Ambiente local - Configuração do python:\n",
        "\n",
        "* Abrir o terminal: cmd - terminal.app;\n",
        "\n",
        "* Criar uma pasta de projeto;\n",
        "\n",
        "* Criar um envirorment:\n",
        "\n",
        "```batch\n",
        "uv init\n",
        "uv venv\n",
        "```\n",
        "ou\n",
        "\n",
        "```batch\n",
        "python -m venv venv\n",
        "venv\\Script\\activate\n",
        "```\n",
        "\n",
        "* Instalar dependências\n",
        "\n",
        "```batch\n",
        "uv add jupyterlab\n",
        "uv add ipywidgets\n",
        "uv add pandas\n",
        "uv add numpy\n",
        "```\n"
      ]
    },
    {
      "cell_type": "markdown",
      "metadata": {
        "id": "alorybD0FCgC"
      },
      "source": [
        "Ambiente de laboratório do google:\n",
        "\n",
        "\n",
        "* Ter uma conta no google (Gmail);\n",
        "* [Google Colab Research](https://colab.research.google.com/);\n",
        "* Abrir um jupyter do Google Drive;\n"
      ]
    },
    {
      "cell_type": "code",
      "execution_count": null,
      "metadata": {
        "id": "DG7K1uYdGbf3"
      },
      "outputs": [],
      "source": []
    }
  ],
  "metadata": {
    "colab": {
      "provenance": []
    },
    "kernelspec": {
      "display_name": "Python 3",
      "name": "python3"
    },
    "language_info": {
      "name": "python"
    }
  },
  "nbformat": 4,
  "nbformat_minor": 0
}
