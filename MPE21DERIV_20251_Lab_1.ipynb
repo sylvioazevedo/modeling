{
  "nbformat": 4,
  "nbformat_minor": 0,
  "metadata": {
    "colab": {
      "provenance": []
    },
    "kernelspec": {
      "name": "python3",
      "display_name": "Python 3"
    },
    "language_info": {
      "name": "python"
    }
  },
  "cells": [
    {
      "cell_type": "markdown",
      "source": [
        "# Insper - Derivativos - Lab 1\n",
        "\n",
        "> Professor: Dr. Gustavo Monteiro de Athayde  \n",
        "> Monitor: Sylvio X. Azevedo Neto - <<sylvioxan@insper.edu.br>>  \n",
        "> Date: 15/05/2025\n"
      ],
      "metadata": {
        "id": "9AyDnbUFtOk7"
      }
    },
    {
      "cell_type": "markdown",
      "source": [
        "## Agenda\n",
        "\n",
        "* Smile for Dummies (Excel) - Blackboard Insper;\n",
        "\n",
        "* Binárias do Copom;\n",
        "\n",
        "* Framework python para derivativos:\n",
        "\n",
        "  - Montagem de ambiente;\n",
        "\n",
        "  - Notações sobre a disciplina;\n",
        "\n",
        "  - Smile for Dummies: Implementação - Gerador de vols\n"
      ],
      "metadata": {
        "id": "GOyZ9QyzyR_X"
      }
    },
    {
      "cell_type": "markdown",
      "source": [
        "## Binárias Copom\n",
        "\n",
        "  - [Dashboard B3](https://www.b3.com.br/pt_br/produtos-e-servicos/negociacao/juros/dashboard-publico-opcoes-de-copom/)\n",
        "\n",
        "\n",
        "  - Digitais para Maio/2025:\n",
        "  \n",
        "  https://drive.google.com/file/d/1to_55E7Ms7KaEyDu9HyIdcM-HC9n0yO_/view?usp=sharing\n",
        "  "
      ],
      "metadata": {
        "id": "7oYSi4D01kys"
      }
    },
    {
      "cell_type": "markdown",
      "source": [
        "## Framework python - Montagem do ambiente:\n",
        "\n",
        "### Ambiente local:\n",
        "\n",
        "  - [Download do interpretador python](https://www.python.org/downloads/);\n",
        "  \n",
        "  - [Instalação do gerenciador de pacotes UV](https://docs.astral.sh/uv/): **pip install uv**\n",
        "\n",
        "\n",
        "\n",
        "  - [Download do Visual Studio Code](https://code.visualstudio.com/download);\n"
      ],
      "metadata": {
        "id": "xq2jVZo684dD"
      }
    },
    {
      "cell_type": "markdown",
      "source": [
        "### Ambiente local - Configuração do python:\n",
        "\n",
        "* Abrir o terminal: cmd - terminal.app;\n",
        "\n",
        "* Criar uma pasta de projeto;\n",
        "\n",
        "* Criar um envirorment:\n",
        "\n",
        "```batch\n",
        "uv init\n",
        "uv venv\n",
        "```\n",
        "ou\n",
        "\n",
        "```batch\n",
        "python -m venv venv\n",
        "venv\\Script\\activate\n",
        "```\n",
        "\n",
        "* Instalar dependências\n",
        "\n",
        "```batch\n",
        "uv add jupyterlab\n",
        "uv add ipywidgets\n",
        "uv add pandas\n",
        "uv add numpy\n",
        "```\n"
      ],
      "metadata": {
        "id": "r7hKReBLDwk4"
      }
    },
    {
      "cell_type": "markdown",
      "source": [
        "Ambiente de laboratório do google:\n",
        "\n",
        "\n",
        "* Ter uma conta no google (Gmail);\n",
        "* [Google Colab Research](https://colab.research.google.com/);\n",
        "* Abrir um jupyter do Google Drive;\n"
      ],
      "metadata": {
        "id": "alorybD0FCgC"
      }
    },
    {
      "cell_type": "code",
      "source": [],
      "metadata": {
        "id": "DG7K1uYdGbf3"
      },
      "execution_count": null,
      "outputs": []
    }
  ]
}