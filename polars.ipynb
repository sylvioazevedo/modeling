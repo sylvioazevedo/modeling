{
 "cells": [
  {
   "cell_type": "markdown",
   "metadata": {},
   "source": [
    "# Polars - DataFrame\n",
    "\n",
    "> Professor: Dr. Gustavo Monteiro de Athayde - <<gustavoma1@insper.edu.br>>  \n",
    "> Monitor: Sylvio Ximenez de Azevedo Neto - <<sylvioxan@insper.edu.br>>  \n",
    "> Date: 29/03/2025"
   ]
  },
  {
   "cell_type": "markdown",
   "metadata": {},
   "source": [
    "## Brand new dataframe library in Rust\n",
    "\n",
    "[Polars](https://pola.rs/) is a fast DataFrame library implemented in Rust. It is designed to be efficient and easy to use, with a focus on performance and scalability. Polars provides a high-level API for data manipulation and analysis, making it a powerful tool for data scientists and analysts.\n",
    "\n",
    "It is particularly well-suited for working with large datasets and can handle data in various formats, including CSV, Parquet, and JSON. Polars is built on top of the Arrow memory format, which allows for efficient data storage and processing.\n",
    "\n",
    "It claims to be pretty faster than Pandas, especially for large datasets. It also has a more efficient memory usage and can handle larger datasets than Pandas.\n",
    "\n",
    "Polars [documentation](https://docs.pola.rs/)"
   ]
  },
  {
   "cell_type": "markdown",
   "metadata": {},
   "source": [
    "![polars_benchmark](images/polars_bench.svg)"
   ]
  },
  {
   "cell_type": "code",
   "execution_count": 2,
   "metadata": {},
   "outputs": [
    {
     "name": "stdout",
     "output_type": "stream",
     "text": [
      "shape: (4, 4)\n",
      "┌────────────────┬────────────┬────────┬────────┐\n",
      "│ name           ┆ birthdate  ┆ weight ┆ height │\n",
      "│ ---            ┆ ---        ┆ ---    ┆ ---    │\n",
      "│ str            ┆ date       ┆ f64    ┆ f64    │\n",
      "╞════════════════╪════════════╪════════╪════════╡\n",
      "│ Alice Archer   ┆ 1997-01-10 ┆ 57.9   ┆ 1.56   │\n",
      "│ Ben Brown      ┆ 1985-02-15 ┆ 72.5   ┆ 1.77   │\n",
      "│ Chloe Cooper   ┆ 1983-03-22 ┆ 53.6   ┆ 1.65   │\n",
      "│ Daniel Donovan ┆ 1981-04-30 ┆ 83.1   ┆ 1.75   │\n",
      "└────────────────┴────────────┴────────┴────────┘\n"
     ]
    }
   ],
   "source": [
    "from datetime import date as dt\n",
    "\n",
    "import polars as pl\n",
    "\n",
    "df = pl.DataFrame({\n",
    "        \"name\": [\"Alice Archer\", \"Ben Brown\", \"Chloe Cooper\", \"Daniel Donovan\"],\n",
    "        \"birthdate\": [\n",
    "            dt(1997, 1, 10),\n",
    "            dt(1985, 2, 15),\n",
    "            dt(1983, 3, 22),\n",
    "            dt(1981, 4, 30),\n",
    "        ],\n",
    "        \"weight\": [57.9, 72.5, 53.6, 83.1],  # (kg)\n",
    "        \"height\": [1.56, 1.77, 1.65, 1.75],  # (m)\n",
    "    })\n",
    "\n",
    "print(df)"
   ]
  },
  {
   "cell_type": "code",
   "execution_count": 4,
   "metadata": {},
   "outputs": [
    {
     "name": "stdout",
     "output_type": "stream",
     "text": [
      "shape: (4, 4)\n",
      "┌────────────────┬────────────┬────────┬────────┐\n",
      "│ name           ┆ birthdate  ┆ weight ┆ height │\n",
      "│ ---            ┆ ---        ┆ ---    ┆ ---    │\n",
      "│ str            ┆ date       ┆ f64    ┆ f64    │\n",
      "╞════════════════╪════════════╪════════╪════════╡\n",
      "│ Alice Archer   ┆ 1997-01-10 ┆ 57.9   ┆ 1.56   │\n",
      "│ Ben Brown      ┆ 1985-02-15 ┆ 72.5   ┆ 1.77   │\n",
      "│ Chloe Cooper   ┆ 1983-03-22 ┆ 53.6   ┆ 1.65   │\n",
      "│ Daniel Donovan ┆ 1981-04-30 ┆ 83.1   ┆ 1.75   │\n",
      "└────────────────┴────────────┴────────┴────────┘\n"
     ]
    }
   ],
   "source": [
    "df.write_csv(\"pl_output.csv\")\n",
    "df_csv = pl.read_csv(\"pl_output.csv\", try_parse_dates=True)\n",
    "print(df_csv)"
   ]
  },
  {
   "cell_type": "code",
   "execution_count": null,
   "metadata": {},
   "outputs": [
    {
     "data": {
      "text/html": [
       "[(col(\"weight\")) / (col(\"height\").pow([dyn int: 2]))]"
      ],
      "text/plain": [
       "<Expr ['[(col(\"weight\")) / (col(\"heigh…'] at 0x1FE31560DA0>"
      ]
     },
     "execution_count": 5,
     "metadata": {},
     "output_type": "execute_result"
    }
   ],
   "source": [
    "# Expressions\n",
    "pl.col(\"weight\") / (pl.col(\"height\") ** 2)"
   ]
  },
  {
   "cell_type": "code",
   "execution_count": 8,
   "metadata": {},
   "outputs": [
    {
     "name": "stdout",
     "output_type": "stream",
     "text": [
      "shape: (4, 3)\n",
      "┌────────────────┬────────────┬───────────┐\n",
      "│ name           ┆ birth_year ┆ bmi       │\n",
      "│ ---            ┆ ---        ┆ ---       │\n",
      "│ str            ┆ i32        ┆ f64       │\n",
      "╞════════════════╪════════════╪═══════════╡\n",
      "│ Alice Archer   ┆ 1997       ┆ 23.791913 │\n",
      "│ Ben Brown      ┆ 1985       ┆ 23.141498 │\n",
      "│ Chloe Cooper   ┆ 1983       ┆ 19.687787 │\n",
      "│ Daniel Donovan ┆ 1981       ┆ 27.134694 │\n",
      "└────────────────┴────────────┴───────────┘\n"
     ]
    }
   ],
   "source": [
    "# using expressions in select\n",
    "# select columns and apply expressions\n",
    "result = df.select(\n",
    "    pl.col(\"name\"),\n",
    "    pl.col(\"birthdate\").dt.year().alias(\"birth_year\"),\n",
    "    (pl.col(\"weight\") / (pl.col(\"height\") ** 2)).alias(\"bmi\"),\n",
    ")\n",
    "print(result)"
   ]
  },
  {
   "cell_type": "code",
   "execution_count": 9,
   "metadata": {},
   "outputs": [
    {
     "name": "stdout",
     "output_type": "stream",
     "text": [
      "shape: (2, 4)\n",
      "┌────────────────┬────────────┬────────┬────────┐\n",
      "│ name           ┆ birthdate  ┆ weight ┆ height │\n",
      "│ ---            ┆ ---        ┆ ---    ┆ ---    │\n",
      "│ str            ┆ date       ┆ f64    ┆ f64    │\n",
      "╞════════════════╪════════════╪════════╪════════╡\n",
      "│ Ben Brown      ┆ 1985-02-15 ┆ 72.5   ┆ 1.77   │\n",
      "│ Daniel Donovan ┆ 1981-04-30 ┆ 83.1   ┆ 1.75   │\n",
      "└────────────────┴────────────┴────────┴────────┘\n"
     ]
    }
   ],
   "source": [
    "# filtering rows\n",
    "# filter rows based on a condition\n",
    "result = df.filter(pl.col(\"weight\") > 70)\n",
    "print(result)"
   ]
  },
  {
   "cell_type": "code",
   "execution_count": 10,
   "metadata": {},
   "outputs": [
    {
     "name": "stdout",
     "output_type": "stream",
     "text": [
      "shape: (3, 4)\n",
      "┌────────────────┬────────────┬────────┬────────┐\n",
      "│ name           ┆ birthdate  ┆ weight ┆ height │\n",
      "│ ---            ┆ ---        ┆ ---    ┆ ---    │\n",
      "│ str            ┆ date       ┆ f64    ┆ f64    │\n",
      "╞════════════════╪════════════╪════════╪════════╡\n",
      "│ Ben Brown      ┆ 1985-02-15 ┆ 72.5   ┆ 1.77   │\n",
      "│ Chloe Cooper   ┆ 1983-03-22 ┆ 53.6   ┆ 1.65   │\n",
      "│ Daniel Donovan ┆ 1981-04-30 ┆ 83.1   ┆ 1.75   │\n",
      "└────────────────┴────────────┴────────┴────────┘\n"
     ]
    }
   ],
   "source": [
    "result = df.filter(pl.col(\"birthdate\").dt.year() < 1990)\n",
    "print(result)"
   ]
  },
  {
   "cell_type": "code",
   "execution_count": 11,
   "metadata": {},
   "outputs": [
    {
     "name": "stdout",
     "output_type": "stream",
     "text": [
      "shape: (2, 2)\n",
      "┌────────┬─────┐\n",
      "│ decade ┆ len │\n",
      "│ ---    ┆ --- │\n",
      "│ i32    ┆ u32 │\n",
      "╞════════╪═════╡\n",
      "│ 1990   ┆ 1   │\n",
      "│ 1980   ┆ 3   │\n",
      "└────────┴─────┘\n"
     ]
    }
   ],
   "source": [
    "# grouping and aggregating\n",
    "result = df.group_by(\n",
    "    (pl.col(\"birthdate\").dt.year() // 10 * 10).alias(\"decade\"),\n",
    "    maintain_order=True,\n",
    ").len()\n",
    "print(result)"
   ]
  },
  {
   "cell_type": "code",
   "execution_count": 12,
   "metadata": {},
   "outputs": [
    {
     "name": "stdout",
     "output_type": "stream",
     "text": [
      "shape: (2, 4)\n",
      "┌────────┬─────────────┬────────────┬─────────┐\n",
      "│ decade ┆ sample_size ┆ avg_weight ┆ tallest │\n",
      "│ ---    ┆ ---         ┆ ---        ┆ ---     │\n",
      "│ i32    ┆ u32         ┆ f64        ┆ f64     │\n",
      "╞════════╪═════════════╪════════════╪═════════╡\n",
      "│ 1990   ┆ 1           ┆ 57.9       ┆ 1.56    │\n",
      "│ 1980   ┆ 3           ┆ 69.73      ┆ 1.77    │\n",
      "└────────┴─────────────┴────────────┴─────────┘\n"
     ]
    }
   ],
   "source": [
    "result = df.group_by(\n",
    "    (pl.col(\"birthdate\").dt.year() // 10 * 10).alias(\"decade\"),\n",
    "    maintain_order=True,\n",
    ").agg(\n",
    "    pl.len().alias(\"sample_size\"),\n",
    "    pl.col(\"weight\").mean().round(2).alias(\"avg_weight\"),\n",
    "    pl.col(\"height\").max().alias(\"tallest\"),\n",
    ")\n",
    "print(result)"
   ]
  },
  {
   "cell_type": "code",
   "execution_count": 13,
   "metadata": {},
   "outputs": [
    {
     "name": "stdout",
     "output_type": "stream",
     "text": [
      "shape: (4, 6)\n",
      "┌────────────────┬────────────┬────────┬────────┬────────┬──────────┐\n",
      "│ name           ┆ birthdate  ┆ weight ┆ height ┆ parent ┆ siblings │\n",
      "│ ---            ┆ ---        ┆ ---    ┆ ---    ┆ ---    ┆ ---      │\n",
      "│ str            ┆ date       ┆ f64    ┆ f64    ┆ bool   ┆ i64      │\n",
      "╞════════════════╪════════════╪════════╪════════╪════════╪══════════╡\n",
      "│ Alice Archer   ┆ 1997-01-10 ┆ 57.9   ┆ 1.56   ┆ false  ┆ 3        │\n",
      "│ Ben Brown      ┆ 1985-02-15 ┆ 72.5   ┆ 1.77   ┆ true   ┆ 1        │\n",
      "│ Chloe Cooper   ┆ 1983-03-22 ┆ 53.6   ┆ 1.65   ┆ false  ┆ 4        │\n",
      "│ Daniel Donovan ┆ 1981-04-30 ┆ 83.1   ┆ 1.75   ┆ false  ┆ 2        │\n",
      "└────────────────┴────────────┴────────┴────────┴────────┴──────────┘\n"
     ]
    }
   ],
   "source": [
    "# combining dataframes\n",
    "df2 = pl.DataFrame(\n",
    "    {\n",
    "        \"name\": [\"Ben Brown\", \"Daniel Donovan\", \"Alice Archer\", \"Chloe Cooper\"],\n",
    "        \"parent\": [True, False, False, False],\n",
    "        \"siblings\": [1, 2, 3, 4],\n",
    "    }\n",
    ")\n",
    "\n",
    "print(df.join(df2, on=\"name\", how=\"left\"))"
   ]
  },
  {
   "cell_type": "code",
   "execution_count": 15,
   "metadata": {},
   "outputs": [
    {
     "name": "stdout",
     "output_type": "stream",
     "text": [
      "shape: (8, 4)\n",
      "┌────────────────┬────────────┬────────┬────────┐\n",
      "│ name           ┆ birthdate  ┆ weight ┆ height │\n",
      "│ ---            ┆ ---        ┆ ---    ┆ ---    │\n",
      "│ str            ┆ date       ┆ f64    ┆ f64    │\n",
      "╞════════════════╪════════════╪════════╪════════╡\n",
      "│ Alice Archer   ┆ 1997-01-10 ┆ 57.9   ┆ 1.56   │\n",
      "│ Ben Brown      ┆ 1985-02-15 ┆ 72.5   ┆ 1.77   │\n",
      "│ Chloe Cooper   ┆ 1983-03-22 ┆ 53.6   ┆ 1.65   │\n",
      "│ Daniel Donovan ┆ 1981-04-30 ┆ 83.1   ┆ 1.75   │\n",
      "│ Ethan Edwards  ┆ 1977-05-10 ┆ 67.9   ┆ 1.76   │\n",
      "│ Fiona Foster   ┆ 1975-06-23 ┆ 72.5   ┆ 1.6    │\n",
      "│ Grace Gibson   ┆ 1973-07-22 ┆ 57.6   ┆ 1.66   │\n",
      "│ Henry Harris   ┆ 1971-08-03 ┆ 93.1   ┆ 1.8    │\n",
      "└────────────────┴────────────┴────────┴────────┘\n"
     ]
    }
   ],
   "source": [
    "df3 = pl.DataFrame(\n",
    "    {\n",
    "        \"name\": [\"Ethan Edwards\", \"Fiona Foster\", \"Grace Gibson\", \"Henry Harris\"],\n",
    "        \"birthdate\": [\n",
    "            dt(1977, 5, 10),\n",
    "            dt(1975, 6, 23),\n",
    "            dt(1973, 7, 22),\n",
    "            dt(1971, 8, 3),\n",
    "        ],\n",
    "        \"weight\": [67.9, 72.5, 57.6, 93.1],  # (kg)\n",
    "        \"height\": [1.76, 1.6, 1.66, 1.8],  # (m)\n",
    "    }\n",
    ")\n",
    "\n",
    "print(pl.concat([df, df3], how=\"vertical\"))"
   ]
  },
  {
   "cell_type": "code",
   "execution_count": null,
   "metadata": {},
   "outputs": [],
   "source": []
  }
 ],
 "metadata": {
  "kernelspec": {
   "display_name": ".venv",
   "language": "python",
   "name": "python3"
  },
  "language_info": {
   "codemirror_mode": {
    "name": "ipython",
    "version": 3
   },
   "file_extension": ".py",
   "mimetype": "text/x-python",
   "name": "python",
   "nbconvert_exporter": "python",
   "pygments_lexer": "ipython3",
   "version": "3.12.4"
  }
 },
 "nbformat": 4,
 "nbformat_minor": 2
}
