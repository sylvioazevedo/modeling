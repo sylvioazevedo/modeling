{
 "cells": [
  {
   "cell_type": "markdown",
   "metadata": {},
   "source": [
    "# CDS - Credit Default Swap\n",
    "\n",
    "> Author: Gustavo Monteiro de Athayde  \n",
    "> Monitor: Sylvio Ximenez de Azevedo Neto - <<sylvioxan@insper.edu.br>>  \n",
    "> Date: 05/04/2025"
   ]
  },
  {
   "cell_type": "markdown",
   "metadata": {},
   "source": [
    "### Description\n",
    "\n",
    "A CDS is a financial derivative that allows an investor to \"swap\" or transfer the credit risk of fixed income products between two or more parties. The buyer of a CDS makes periodic payments to the seller, and in return, receives a payoff if the underlying financial instrument defaults.\n",
    "\n",
    "It has two legs: the premium leg and the protection leg. The premium leg is the periodic payment made by the buyer of the CDS to the seller, while the protection leg is the payment made by the seller to the buyer in case of default."
   ]
  },
  {
   "cell_type": "markdown",
   "metadata": {},
   "source": [
    "### Premium Leg\n",
    "\n",
    "$$ S_0 \\Delta \\Biggl \\{ \\frac{1}{ (1 + r)^{\\Delta} (1 + \\gamma)^{\\Delta}} + \\frac{1}{(1 + r)^{2\\Delta} (1 + \\gamma)^{2\\Delta}} + ... + \\frac{1}{(1 + r)^{n\\Delta} (1 + \\gamma)^{n\\Delta}}$$\n",
    "\n",
    "Where:\n",
    "\n",
    "- $S_0$ = premium leg (spread)\n",
    "- $r$ = risk-free rate\n",
    "- $\\Delta$ = Flow interval\n",
    "- $\\gamma$ = Hazard rate ($\\equiv$ default probability)"
   ]
  },
  {
   "cell_type": "markdown",
   "metadata": {},
   "source": [
    "### Protection Leg\n",
    "\n",
    "$$\n",
    "\\begin{align*}\n",
    "= (1 - R) \\Biggl \\{ \\frac{1}{ (1 + r)^{\\Delta}} \\bigg [1 - \\frac{1}{(1 + \\gamma)^{\\Delta}} \\bigg ] + \\\\ \\frac{1}{(1 + r)^{2\\Delta}} \\frac{1}{(1 + \\gamma)^\\Delta}\\bigg [1 - \\frac{1}{(1 + \\gamma)^{\\Delta}} \\bigg ] + \\\\ ... +  \\\\ \\frac{1}{(1 + r)^{n\\Delta}} \\frac{1}{(1 + \\gamma)^{(n-1)\\Delta}} \\bigg [1 - \\frac{1}{(1 + \\gamma)^{\\Delta}} \\bigg ]\n",
    "\\end{align*}\n",
    "$$"
   ]
  },
  {
   "cell_type": "markdown",
   "metadata": {
    "vscode": {
     "languageId": "plaintext"
    }
   },
   "source": [
    "Where:\n",
    "\n",
    "- R - Recovery Rate."
   ]
  },
  {
   "cell_type": "markdown",
   "metadata": {},
   "source": [
    "Some algebraic work on the protection leg:"
   ]
  },
  {
   "cell_type": "markdown",
   "metadata": {},
   "source": [
    "\n",
    "$$\n",
    "\\begin{align*}\n",
    "= \\Biggl \\{ \\frac{1}{ (1 + r)^{\\Delta}} \\bigg [1 - \\frac{1}{(1 + \\gamma)^{\\Delta}} \\bigg ] + \\\\ \\frac{1}{(1 + r)^{2\\Delta}} \\frac{1}{(1 + \\gamma)^\\Delta}\\bigg [1 - \\frac{1}{(1 + \\gamma)^{\\Delta}} \\bigg ] + \\\\ ... +  \\\\ \\frac{1}{(1 + r)^{n\\Delta}} \\frac{1}{(1 + \\gamma)^{(n-1)\\Delta}} \\bigg [1 - \\frac{1}{(1 + \\gamma)^{\\Delta}} \\bigg ] \\Biggl \\} (1 - R)\n",
    "\\end{align*}\n",
    "$$"
   ]
  },
  {
   "cell_type": "markdown",
   "metadata": {},
   "source": [
    "$$\n",
    "\\begin{align*}\n",
    "\\Biggl \\{ \\frac{1}{(1 +r)^{\\Delta}(1 + \\gamma)^{\\Delta}} + \\\\ \\frac{1}{(1 + r)^{2\\Delta}(1 + \\gamma)^{2\\Delta}} + \\\\... + \\\\ \\frac{1}{(1 + r)^{n\\Delta}(1 + \\gamma)^{n\\Delta}} \\Biggl \\} (1 - R) \\bigg [1 - \\frac{1}{(1 + \\gamma)^{\\Delta}} \\bigg ] (1+ \\gamma)^\\Delta \\\\\n",
    "\\end{align*}\n",
    "$$"
   ]
  },
  {
   "cell_type": "markdown",
   "metadata": {
    "vscode": {
     "languageId": "plaintext"
    }
   },
   "source": [
    "When a trade is established in t, this statment is valid: $\\text{Premium\\_Leg} = \\text{Protection\\_Leg}$. Notice that, in this case, the summation part of both sides of the equation are the same. So it is possible to remove them:"
   ]
  },
  {
   "cell_type": "markdown",
   "metadata": {
    "vscode": {
     "languageId": "plaintext"
    }
   },
   "source": [
    "$$\n",
    "\\begin{align*}\n",
    "S_0 \\Delta \\Biggl \\{ \\frac{1}{ (1 + r)^{\\Delta} (1 + \\gamma)^{\\Delta}} + \\frac{1}{(1 + r)^{2\\Delta} (1 + \\gamma)^{2\\Delta}} + ... + \\frac{1}{(1 + r)^{n\\Delta} (1 + \\gamma)^{n\\Delta}} \\Biggl\\}\n",
    "\\end{align*}\n",
    "$$\n",
    "\n",
    "$$\n",
    "=\n",
    "\\begin{align*}\n",
    "\\Biggl \\{ \\frac{1}{(1 +r)^{\\Delta}(1 + \\gamma)^{\\Delta}} + \\frac{1}{(1 + r)^{2\\Delta}(1 + \\gamma)^{2\\Delta}} + ... +  \\frac{1}{(1 + r)^{n\\Delta}(1 + \\gamma)^{n\\Delta}} \\Biggl \\} \\\\ (1 - R) \\bigg [1 - \\frac{1}{(1 + \\gamma)^{\\Delta}} \\bigg ] (1+ \\gamma)^\\Delta\n",
    "\\end{align*}\n",
    "$$"
   ]
  },
  {
   "cell_type": "markdown",
   "metadata": {},
   "source": [
    "The we finally have:"
   ]
  },
  {
   "cell_type": "markdown",
   "metadata": {},
   "source": [
    "$$ S_0 \\Delta = (1 - R) \\bigg [1 - \\frac{1}{(1 + \\gamma)^{\\Delta}} \\bigg ] (1+ \\gamma)^\\Delta $$"
   ]
  },
  {
   "cell_type": "markdown",
   "metadata": {},
   "source": [
    "$$ S_0 \\Delta = (1 - R) \\big [(1 + \\gamma)^{\\Delta} -1 \\big ] $$"
   ]
  }
 ],
 "metadata": {
  "language_info": {
   "name": "python"
  }
 },
 "nbformat": 4,
 "nbformat_minor": 2
}
