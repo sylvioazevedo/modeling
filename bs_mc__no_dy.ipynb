{
 "cells": [
  {
   "cell_type": "markdown",
   "metadata": {},
   "source": [
    "# Black-Scholes - Monte Carlo Simulation - No dividends\n",
    "\n",
    "> Author: Gustavo Monteiro de Athayde  \n",
    "> Date: 15/03/2025\n",
    "\n"
   ]
  },
  {
   "cell_type": "code",
   "execution_count": 17,
   "metadata": {},
   "outputs": [],
   "source": [
    "# dependencies\n",
    "from IPython.display import display, clear_output\n",
    "\n",
    "import ipywidgets as widgets\n",
    "import matplotlib.pyplot as plt\n",
    "import numpy as np\n",
    "import pandas as pd"
   ]
  },
  {
   "cell_type": "markdown",
   "metadata": {},
   "source": [
    "## Brigde part"
   ]
  },
  {
   "cell_type": "code",
   "execution_count": null,
   "metadata": {},
   "outputs": [],
   "source": [
    "# BS parameters\n",
    "S0 = 100        # spot price\n",
    "K = 100         # strike price\n",
    "T = 1           # time to maturity\n",
    "rf = 0.00       # risk-free rate\n",
    "vol = 0.4       # volatility"
   ]
  },
  {
   "cell_type": "code",
   "execution_count": null,
   "metadata": {},
   "outputs": [],
   "source": [
    "# Monte Carlo simulation parameters\n",
    "n = 1000000        # number of paths  - 5 min\n",
    "n = 100000\n",
    "\n",
    "# underlying parameters\n",
    "mimc = (rf - vol**2/2)*(T/252)          # drift\n",
    "vol_mc = vol/np.sqrt(252)\n",
    "mi = rf - vol**2/2                      # drift (mi)"
   ]
  },
  {
   "cell_type": "markdown",
   "metadata": {},
   "source": [
    "## Naive approach"
   ]
  },
  {
   "cell_type": "code",
   "execution_count": 16,
   "metadata": {},
   "outputs": [],
   "source": [
    "# let's simulate the paths - most dummy way\n",
    "np.random.seed(0)\n",
    "dt = T/n\n",
    "t = np.linspace(0, T, n)\n",
    "S = np.zeros((n, 252))\n",
    "\n",
    "for i in range(n):\n",
    "    S[i, 0] = S0\n",
    "    for j in range(1, 252):\n",
    "        S[i, j] = S[i, j-1]*np.exp(mimc + vol_mc*np.random.normal(0, 1))"
   ]
  },
  {
   "cell_type": "code",
   "execution_count": 13,
   "metadata": {},
   "outputs": [
    {
     "name": "stdout",
     "output_type": "stream",
     "text": []
    }
   ],
   "source": [
    "S.T"
   ]
  },
  {
   "cell_type": "code",
   "execution_count": 18,
   "metadata": {},
   "outputs": [
    {
     "name": "stdout",
     "output_type": "stream",
     "text": []
    },
    {
     "name": "stdout",
     "output_type": "stream",
     "text": []
    }
   ],
   "source": [
    "# plot the paths\t\n",
    "plt.figure(figsize=(10, 6))\n",
    "plt.plot(S.T)\n",
    "plt.title('Simulated paths')"
   ]
  },
  {
   "cell_type": "markdown",
   "metadata": {},
   "source": [
    "## Monte Carlo Simulation using pandas"
   ]
  },
  {
   "cell_type": "code",
   "execution_count": 1,
   "metadata": {},
   "outputs": [
    {
     "name": "stdout",
     "output_type": "stream",
     "text": []
    }
   ],
   "source": [
    "# let simulate the stock price trajectory using pandas\n",
    "np.random.seed(0)\n",
    "dt = T/n    \n",
    "t = np.linspace(0, T, n)\n",
    "S = pd.DataFrame(S)\n",
    "S.columns = t\n",
    "S.index = range(1, n+1)\n",
    "S\n"
   ]
  },
  {
   "cell_type": "code",
   "execution_count": null,
   "metadata": {},
   "outputs": [],
   "source": []
  }
 ],
 "metadata": {
  "kernelspec": {
   "display_name": ".venv",
   "language": "python",
   "name": "python3"
  },
  "language_info": {
   "codemirror_mode": {
    "name": "ipython",
    "version": 3
   },
   "file_extension": ".py",
   "mimetype": "text/x-python",
   "name": "python",
   "nbconvert_exporter": "python",
   "pygments_lexer": "ipython3",
   "version": "3.12.4"
  }
 },
 "nbformat": 4,
 "nbformat_minor": 2
}
