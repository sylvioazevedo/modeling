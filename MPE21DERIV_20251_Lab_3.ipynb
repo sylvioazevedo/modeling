{
  "cells": [
    {
      "cell_type": "markdown",
      "metadata": {
        "id": "9AyDnbUFtOk7"
      },
      "source": [
        "# Insper - MPE21 - Derivativos - Lab 2\n",
        "\n",
        "> Professor: Dr. Gustavo Monteiro de Athayde  \n",
        "> Monitor: Sylvio X. Azevedo Neto - <<sylvioxan@insper.edu.br>>  \n",
        "> Date: 15/05/2025\n"
      ]
    },
    {
      "cell_type": "markdown",
      "metadata": {
        "id": "GOyZ9QyzyR_X"
      },
      "source": [
        "## Agenda\n",
        "\n",
        "* Binárias do Copom - Revival;\n",
        "\n",
        "* Fontes de dados:\n",
        "\n",
        "    - BBG;\n",
        "    - https://orats.com/;\n",
        "    - https://medium.com/@txlian13/webscrapping-options-data-with-python-and-yfinance-e4deb0124613\n",
        "\n",
        "* Black-Scholes - Monte Carlo Simulation: [bs_mc_no_dy.ipynb](bs_mc_no_dy.ipynb);\n",
        "\n",
        "* Black-Scholes - Theta - Gamma: [bs_theta_gamma.ipynb](bs_theta_gamma.ipynb);\n",
        "\n",
        "* Black-Scholes - Implied distributions: [bs_implied_distributions.ipynb](bs_implied_distributions.ipynb);\n",
        "\n",
        "* Integrando com o Xlwings: https://www.xlwings.org/\n"
      ]
    },
    {
      "cell_type": "markdown",
      "metadata": {
        "id": "r7hKReBLDwk4"
      },
      "source": [
        "### Ambiente local - Configuração do python:\n",
        "\n",
        "* Abrir o terminal: cmd - terminal.app;\n",
        "\n",
        "* Criar uma pasta de projeto;\n",
        "\n",
        "* Criar um envirorment:\n",
        "\n",
        "```batch\n",
        "uv init\n",
        "uv venv\n",
        "```\n",
        "ou\n",
        "\n",
        "```batch\n",
        "python -m venv venv\n",
        "venv\\Script\\activate\n",
        "```\n",
        "\n",
        "* Instalar dependências\n",
        "\n",
        "```batch\n",
        "uv add jupyterlab\n",
        "uv add ipywidgets\n",
        "uv add pandas\n",
        "uv add numpy\n",
        "```\n"
      ]
    }
  ],
  "metadata": {
    "colab": {
      "provenance": []
    },
    "kernelspec": {
      "display_name": "Python 3",
      "name": "python3"
    },
    "language_info": {
      "name": "python"
    }
  },
  "nbformat": 4,
  "nbformat_minor": 0
}
