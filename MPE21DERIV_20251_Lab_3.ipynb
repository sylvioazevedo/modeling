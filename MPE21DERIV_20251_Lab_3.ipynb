{
  "cells": [
    {
      "cell_type": "markdown",
      "metadata": {
        "id": "9AyDnbUFtOk7"
      },
      "source": [
        "# Insper - MPE21 - Derivativos - Lab 3\n",
        "\n",
        "> Professor: Dr. Gustavo Monteiro de Athayde  \n",
        "> Monitor: Sylvio X. Azevedo Neto - <<sylvioxan@insper.edu.br>>  \n",
        "> Date: 22/05/2025\n"
      ]
    },
    {
      "cell_type": "markdown",
      "metadata": {
        "id": "GOyZ9QyzyR_X"
      },
      "source": [
        "## Agenda\n",
        "\n",
        "* Binárias do Copom - Any changes - [Dashboard B3](https://www.b3.com.br/pt_br/produtos-e-servicos/negociacao/juros/dashboard-publico-opcoes-de-copom/)?\n",
        "\n",
        "* Black-Scholes - Monte Carlo Simulation: [bs_mc_no_dy.ipynb](bs_mc_no_dy.ipynb);\n",
        "\n",
        "* Black-Scholes - Theta - Gamma: [bs_theta_gamma.ipynb](bs_theta_gamma.ipynb);\n",
        "\n",
        "* Black-Scholes - Implied distributions: [bs_implied_distributions.ipynb](bs_implied_distributions_corrected.ipynb);\n",
        "\n",
        "* Black-Scholes - Implied distributions - Deltas: [bs_implied_distributions_deltas.ipynb](bs_implied_distributions_deltas.ipynb);\n",
        "\n",
        "* Integrando com o Xlwings: https://www.xlwings.org/ - [xlwings.ipynb](xlwings.ipynb);\n",
        "\n",
        "* CRR - Cox-Ross-Rubinstein - Binomial Tree: [crr_binomial_tree.ipynb](crr_binomial_tree.ipynb);\n",
        "\n",
        "* DK - Derman-Kani - Binomial Tree: [dk_binomial_tree_xl.ipynb](dk_binomial_tree_xl.ipynb);"
      ]
    },
    {
      "cell_type": "markdown",
      "metadata": {
        "id": "r7hKReBLDwk4"
      },
      "source": [
        "### Ambiente local - Configuração do python:\n",
        "\n",
        "* Abrir o terminal: cmd - terminal.app;\n",
        "\n",
        "* Criar uma pasta de projeto;\n",
        "\n",
        "* Criar um envirorment:\n",
        "\n",
        "```batch\n",
        "uv init\n",
        "uv venv\n",
        "```\n",
        "ou\n",
        "\n",
        "```batch\n",
        "python -m venv venv\n",
        "venv\\Script\\activate\n",
        "```\n",
        "\n",
        "* Instalar dependências\n",
        "\n",
        "```batch\n",
        "uv add jupyterlab\n",
        "uv add ipywidgets\n",
        "uv add pandas\n",
        "uv add numpy\n",
        "```\n"
      ]
    }
  ],
  "metadata": {
    "colab": {
      "provenance": []
    },
    "kernelspec": {
      "display_name": "Python 3",
      "name": "python3"
    },
    "language_info": {
      "name": "python"
    }
  },
  "nbformat": 4,
  "nbformat_minor": 0
}
