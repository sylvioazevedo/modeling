{
 "cells": [
  {
   "cell_type": "markdown",
   "metadata": {},
   "source": [
    "# XLwings - UDF Introduction\n",
    "\n",
    "> Professor: Dr. Gustavo Monteiro de Athayde - <<gustavoma1@insper.edu.br>>  \n",
    "> Monitor: Sylvio Ximenez de Azevedo Neto - <<sylvioxan@insper.edu.br>>  \n",
    "> Date: 29/03/2025"
   ]
  },
  {
   "cell_type": "markdown",
   "metadata": {},
   "source": [
    "XLwings UDF (User Defined Functions) is a Python library that provides a set of functions to manipulate and analyze data in Excel spreadsheets. It is designed to be easy to use and flexible, allowing users to perform complex operations on their data with minimal effort.\n",
    "\n",
    "XLwings UDF - [Documentation](https://docs.xlwings.org/en/stable/udfs.html)"
   ]
  },
  {
   "cell_type": "markdown",
   "metadata": {
    "vscode": {
     "languageId": "markdown"
    }
   },
   "source": [
    "**Important** - Remember to enable option: Trust access to the VBA project object model in Excel options. And add [xlwings] reference in the VBA editor (Tools > References).\n"
   ]
  },
  {
   "cell_type": "markdown",
   "metadata": {},
   "source": [
    "### UDF example\n",
    "\n",
    "```python\n",
    "import xwings as xw\n",
    "import pandas as pd\n",
    "\n",
    "@xw.func\n",
    "def call_price(S, K, T, r, sigma):\n",
    "    \"\"\"\n",
    "    Calculate the call option price using the Black-Scholes formula.\n",
    "\n",
    "    Parameters:\n",
    "    S (float): Current stock price\n",
    "    K (float): Strike price\n",
    "    T (float): Time to expiration in years\n",
    "    r (float): Risk-free interest rate\n",
    "    sigma (float): Volatility of the underlying stock\n",
    "\n",
    "    Returns:\n",
    "    float: Call option price\n",
    "    \"\"\"\n",
    "    d1 = (np.log(S / K) + (r + 0.5 * sigma ** 2) * T) / (sigma * np.sqrt(T))\n",
    "    d2 = d1 - sigma * np.sqrt(T)\n",
    "    call_price = S * norm.cdf(d1) - K * np.exp(-r * T) * norm.cdf(d2)\n",
    "    return call_price\n",
    "```"
   ]
  },
  {
   "cell_type": "markdown",
   "metadata": {},
   "source": []
  }
 ],
 "metadata": {
  "language_info": {
   "name": "python"
  }
 },
 "nbformat": 4,
 "nbformat_minor": 2
}
