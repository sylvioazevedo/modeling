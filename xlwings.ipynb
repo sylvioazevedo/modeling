{
 "cells": [
  {
   "cell_type": "markdown",
   "metadata": {},
   "source": [
    "# Xwings - Introduction\n",
    "\n",
    "> Author: Gustavo Monteiro de Athayde  \n",
    "> Monitor: Sylvio Ximenez de Azevedo Neto - <<sylvioxan@insper.edu.br>>  \n",
    "> Date: 22/03/2025"
   ]
  },
  {
   "cell_type": "markdown",
   "metadata": {},
   "source": [
    "### Installation\n",
    "\n",
    "```bash\n",
    "uv add xwings\n",
    "```\n",
    "\n",
    "ou\n",
    "\n",
    "```bash\n",
    "pip install xwings\n",
    "```\n",
    "\n",
    "Once installed, with the activated environment install the xwings adding using the following command:\n",
    "\n",
    "```bash\n",
    "xlwings addin install\n",
    "```\n",
    "\n",
    "Open Microsoft Excel and you will see the Xwings tab. Set the current directory into the PYTHONPATH field."
   ]
  },
  {
   "cell_type": "markdown",
   "metadata": {},
   "source": [
    "### Import and using xwings in a python script\n",
    "\n",
    "The python script must be saved in the same directory as the Excel workbook. The following code shows how to import the xwings package and create a new instance of the Excel application.\n",
    "\n",
    "```python\n",
    "# import the xwings package\n",
    "import xlwings as xw\n",
    "\n",
    "# create a new instance of the Excel application\n",
    "def any_func():\n",
    "\n",
    "    # open the excel workbook\n",
    "    wb = xw.Book.caller()\n",
    "\n",
    "    # get the active sheet\n",
    "    sheet = wb.sheets.active\n",
    "\n",
    "    # get other sheet by name\n",
    "    sheet = wb.sheets['Sheet1']\n",
    "\n",
    "    # get the range of cells\n",
    "    range = sheet.range('A1:B2')\n",
    "\n",
    "    # get the value of the cell\n",
    "    value = range('A1').value\n",
    "\n",
    "    # get the value of the range using offset\n",
    "    value = range('A1').offset(1, 1).value\n",
    "\n",
    "\n",
    "### debuging the script\n",
    "if __name__ == '__main__':\n",
    "\n",
    "    wb = xw.Book('workbook.xlsx').set_mock_caller()\n",
    "\n",
    "    # call the function\n",
    "    any_func()\n",
    "```"
   ]
  },
  {
   "cell_type": "markdown",
   "metadata": {},
   "source": [
    "### Invoking the function from Excel\n",
    "\n",
    "To invoke the function from Excel, you need to create a new macro and call the function. The following code shows how to create a new macro and call the function.\n",
    "\n",
    "```vba\n",
    "Sub CallAnyFunc()\n",
    "    RunPython (\"import script; script.any_func()\")\n",
    "End Sub\n",
    "```"
   ]
  },
  {
   "cell_type": "markdown",
   "metadata": {},
   "source": []
  }
 ],
 "metadata": {
  "kernelspec": {
   "display_name": ".venv",
   "language": "python",
   "name": "python3"
  },
  "language_info": {
   "name": "python",
   "version": "3.12.4"
  }
 },
 "nbformat": 4,
 "nbformat_minor": 2
}
